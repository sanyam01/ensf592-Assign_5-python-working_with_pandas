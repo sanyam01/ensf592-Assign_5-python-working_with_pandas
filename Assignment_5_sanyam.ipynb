{
 "cells": [
  {
   "cell_type": "markdown",
   "metadata": {},
   "source": [
    "# ENSF 592 Programming Fundamentals for Data Engineers\n",
    "Assignment 5: Numpy and Pandas(5 points)"
   ]
  },
  {
   "cell_type": "markdown",
   "metadata": {},
   "source": [
    "due: 29-July Wed (11:59 midnight)"
   ]
  },
  {
   "cell_type": "markdown",
   "metadata": {},
   "source": [
    "Description:\n",
    "We are going to study data collected from 294 patients with heart disease, and extract some meaningfull information. You can download the dataset (data.csv) from d2l and if you want to know more about it, you can use the below Kaggle link:\n",
    "https://www.kaggle.com/imnikhilanand/heart-attack-prediction"
   ]
  },
  {
   "cell_type": "markdown",
   "metadata": {},
   "source": [
    "|Feature|Description|\n",
    "|-------|----------------------------|\n",
    "|age|age in years|\n",
    "|gender|(1 = male; 0 = female)|\n",
    "|cp|chest pain type|\n",
    "|trestbps|resting blood pressure (in mm Hg on admission to the hospital)|\n",
    "|chol|serum cholestoral in mg/dl|\n",
    "|fbs|(fasting blood sugar > 120 mg/dl) (1 = true; 0 = false)|\n",
    "|restecg|resting electrocardiographic results|\n",
    "|thalach|maximum heart rate achieved|\n",
    "|exang|exercise induced angina (1 = yes; 0 = no)|\n",
    "|oldpeak|ST depression induced by exercise relative to rest|\n",
    "|slope|the slope of the peak exercise ST segment|\n",
    "|ca|number of major vessels (0-3) colored by flourosopy|\n",
    "|thal|3 = normal; 6 = fixed defect; 7 = reversable defect|\n",
    "|num|diagnosis of heart disease (angiographic disease status)|"
   ]
  },
  {
   "cell_type": "markdown",
   "metadata": {},
   "source": [
    "we would like to find answers to the following questions:\n",
    "* Report1: what is the average age of patients ? \n",
    "* Report2: report the average `chol` level of people in intervals of 10 years old ([20,30], [30,40],[40,50],[50,60])\n",
    "* Report3: report the average `trestbps` in people with `chol` of highest level(the highest 30%) and lowest level(the lowest 30%).\n",
    "* Report4: report percentage of men and women with positive diagnosis of heart disease(`num=1`). \n",
    "\n",
    "\n",
    "As a first step, design a **class** that is responsible for general processes that you'll need.\n",
    "* Write a constructor which gets the file_name as input and keeps csv file in a data frame.\n",
    "* Implement a `getColumn` method that gets a `column` name and return the column.\n",
    "* Implement a `select` method that gets a `column` name and searches for records that value of column is equal to the `value`.\n",
    "* Implement a `rangeSelect` method that gets a `column` name and a `begin` and `end`. It searchs for records with `begin<column<end` and returns that sub-table.\n",
    "* Implement a `percentageSelect` method that gets a `column` name, a `perc`(percentage) and `index`, and return the table based on `column` from that column: \n",
    "    * if index ==0 : returns the __first__ `perc*column.size` sub-table.  \n",
    "    * if index ==-1 : returns the __last__ `perc*column.size` sub-table. "
   ]
  },
  {
   "cell_type": "code",
   "execution_count": 2,
   "metadata": {},
   "outputs": [],
   "source": [
    "import pandas as pd\n",
    "import numpy as np"
   ]
  },
  {
   "cell_type": "code",
   "execution_count": 3,
   "metadata": {},
   "outputs": [],
   "source": [
    "class Table:\n",
    "    def __init__(self,file_name):\n",
    "        self.data_df = pd.read_csv(file_name)\n",
    "        self.data_df = self.data_df.replace({'?':0})\n",
    "        self.data_df = pd.DataFrame(self.data_df, dtype = \"int64\")\n",
    "        \n",
    "    def getData(self):\n",
    "        data = self.data_df\n",
    "        return data\n",
    "    \n",
    "    def getColumn(self, col_name):\n",
    "        col_data = self.data_df[col_name]\n",
    "        return col_data\n",
    "    \n",
    "    def select(self, col_name, value):\n",
    "        select_data = self.data_df[self.data_df[col_name] == 1]\n",
    "        return select_data\n",
    "    \n",
    "    def rangeSelect(self,col_name,begin:int,end:int):\n",
    "        data = self.data_df\n",
    "        return data[(data[col_name] >= begin) & (data[col_name] <= end)]\n",
    "    \n",
    "    def percentageSelect(self, col_name, percent, index):\n",
    "        if index == 0:\n",
    "            sort_data = self.data_df.sort_values(by = col_name, ascending = False).reset_index()\n",
    "        else:\n",
    "             sort_data = self.data_df.sort_values(by = col_name, ascending = True).reset_index()\n",
    "        num_rows = int(percent*sort_data[col_name].size)\n",
    "        return sort_data[0:num_rows]"
   ]
  },
  {
   "cell_type": "markdown",
   "metadata": {},
   "source": [
    " Report 1"
   ]
  },
  {
   "cell_type": "code",
   "execution_count": 8,
   "metadata": {},
   "outputs": [
    {
     "name": "stdout",
     "output_type": "stream",
     "text": [
      "The average age of the patients is 47.826531\n"
     ]
    }
   ],
   "source": [
    "fileName = 'datasets_23651_30233_data.csv'\n",
    "obj = Table(fileName)\n",
    "data = obj.getColumn('age')\n",
    "averageAge = data.mean()\n",
    "print(\"The average age of the patients is %f\" %averageAge)"
   ]
  },
  {
   "cell_type": "markdown",
   "metadata": {},
   "source": [
    "Report 2"
   ]
  },
  {
   "cell_type": "code",
   "execution_count": 5,
   "metadata": {},
   "outputs": [
    {
     "name": "stdout",
     "output_type": "stream",
     "text": [
      "In the age group of 20 to 30, average cholestrol level are 153.000000\n",
      "In the age group of 30 to 40, average cholestrol level are 231.089286\n",
      "In the age group of 40 to 50, average cholestrol level are 227.991736\n",
      "In the age group of 50 to 60, average cholestrol level are 239.532258\n"
     ]
    }
   ],
   "source": [
    "for i in range(20,60,10):\n",
    "    data_chol = obj.rangeSelect('age',i,i+10)['chol']\n",
    "    print(\"In the age group of %d to %d, average cholestrol level are %f\" %(i, i+10, np.average(data_chol)))"
   ]
  },
  {
   "cell_type": "markdown",
   "metadata": {},
   "source": [
    "Report 3"
   ]
  },
  {
   "cell_type": "code",
   "execution_count": 6,
   "metadata": {},
   "outputs": [
    {
     "name": "stdout",
     "output_type": "stream",
     "text": [
      "The average trestbps of top 30 percent with highest chol level are 133.36363636363637\n",
      "The average trestbps of top 30 percent with lowest chol level are 132.42045454545453\n"
     ]
    }
   ],
   "source": [
    "data = obj.percentageSelect('chol',.3, 0)['trestbps']\n",
    "print(\"The average trestbps of top 30 percent with highest chol level are \" + str(np.average(data)))\n",
    "data = obj.percentageSelect('chol',.3, -1)['trestbps']\n",
    "print(\"The average trestbps of top 30 percent with lowest chol level are \" + str(np.average(data)))"
   ]
  },
  {
   "cell_type": "markdown",
   "metadata": {},
   "source": [
    "Report 4"
   ]
  },
  {
   "cell_type": "code",
   "execution_count": 7,
   "metadata": {},
   "outputs": [
    {
     "name": "stdout",
     "output_type": "stream",
     "text": [
      "Percentage of men with positive diagnosis of heart disease is 88.679245\n",
      "Percentage of women with positive diagnosis of heart disease is 11.320755\n"
     ]
    }
   ],
   "source": [
    "data = obj.select('number', 1)\n",
    "total_dia = data.shape[0]\n",
    "men_dia = data[data['sex'] == 1].shape[0]\n",
    "women_dia = data[data['sex'] == 0].shape[0]\n",
    "print(\"Percentage of men with positive diagnosis of heart disease is %f\"%(men_dia/total_dia*100))\n",
    "print(\"Percentage of women with positive diagnosis of heart disease is %f\"%(women_dia/total_dia*100))"
   ]
  },
  {
   "cell_type": "code",
   "execution_count": null,
   "metadata": {},
   "outputs": [],
   "source": []
  },
  {
   "cell_type": "code",
   "execution_count": null,
   "metadata": {},
   "outputs": [],
   "source": []
  }
 ],
 "metadata": {
  "kernelspec": {
   "display_name": "Python 3",
   "language": "python",
   "name": "python3"
  },
  "language_info": {
   "codemirror_mode": {
    "name": "ipython",
    "version": 3
   },
   "file_extension": ".py",
   "mimetype": "text/x-python",
   "name": "python",
   "nbconvert_exporter": "python",
   "pygments_lexer": "ipython3",
   "version": "3.7.4"
  }
 },
 "nbformat": 4,
 "nbformat_minor": 2
}
